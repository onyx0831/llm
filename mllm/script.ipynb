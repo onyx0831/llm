{
 "cells": [
  {
   "cell_type": "code",
   "execution_count": null,
   "id": "aaed9f72-29ad-4577-8c09-63258cf0f46a",
   "metadata": {},
   "outputs": [],
   "source": [
    "import os\n",
    "os.environ[\"CUDA_DEVICE_ORDER\"] = \"PCI_BUS_ID\"\n",
    "os.environ[\"CUDA_VISIBLE_DEVICES\"] = \"1,2\"\n",
    "\n",
    "import requests\n",
    "import pandas as pd\n",
    "import matplotlib.pyplot as plt\n",
    "from PIL import Image\n",
    "import torch\n",
    "from tqdm import tqdm\n",
    "from transformers import BitsAndBytesConfig\n",
    "from transformers import pipeline\n",
    "import japanize_matplotlib\n",
    "import openai\n",
    "from openai import OpenAI\n",
    "from src.utils import download_image_from_s3\n",
    "\n",
    "model_id = \"/media/sj-archimedes/data/03_pretrained_model/llm/llava-hf/llava-1.5-7b-hf\"\n",
    "\n",
    "pipe = pipeline(\n",
    "    \"image-to-text\",\n",
    "    model=model_id,\n",
    "    device_map='auto',\n",
    ")"
   ]
  },
  {
   "cell_type": "code",
   "execution_count": null,
   "id": "046e025a-dcf1-416e-8e5f-401977e142ad",
   "metadata": {},
   "outputs": [],
   "source": [
    "medias = ['lap', 'fba', 'ydn', 'twa', 'gdn_ima']\n",
    "\n",
    "\n",
    "all_df = []\n",
    "for media in medias:\n",
    "    df = pd.read_pickle(f'/media/sj-archimedes/data/share/OddAI_Library_practice/data08/{media}_trainval_20221001-20231031.pkl')\n",
    "    df = df.query('creative_type == \"image\"')\n",
    "    df['creative_media_url'] = df['creative_media_url'].map(lambda x: x[0])\n",
    "    df['creative_media_hash'] = df['creative_media_hash'].map(lambda x: x[0])\n",
    "    df = df[['creative_media_url', 'creative_media_hash']]\n",
    "    df = df.drop_duplicates()\n",
    "    all_df.append(df)\n",
    "    print(media, df.shape)\n",
    "\n",
    "all_df = pd.concat(all_df)\n",
    "print(all_df.shape)\n",
    "all_df.drop_duplicates().shape"
   ]
  },
  {
   "cell_type": "code",
   "execution_count": null,
   "id": "63feb7c5-819e-40d6-983d-f595c170c8f9",
   "metadata": {},
   "outputs": [],
   "source": [
    "medias = ['lap', 'fba', 'ydn', 'twa', 'gdn_ima']\n",
    "\n",
    "\n",
    "all_df = []\n",
    "for media in medias:\n",
    "    df = pd.read_pickle(f'/media/sj-archimedes/data/share/OddAI_Library_practice/data08/{media}_trainval_20221001-20231031.pkl')\n",
    "    df = df.query('creative_type == \"image\"')\n",
    "    df['creative_media_hash'] = df['creative_media_hash'].map(lambda x: x[0])\n",
    "    df = df [['genre', 'creative_media_hash']]\n",
    "    df = df.drop_duplicates()\n",
    "    plt.figure(figsize=(10, 5))\n",
    "    plt.title(media)\n",
    "    df['genre'].hist()\n",
    "    plt.xticks(rotation=90)\n",
    "    plt.show()\n"
   ]
  },
  {
   "cell_type": "markdown",
   "id": "b620316d-24ea-40b0-8d74-ce3bbc29d3d4",
   "metadata": {},
   "source": [
    "分布的にはLAPとFBAをデモとして使う方針でいく"
   ]
  }
 ],
 "metadata": {
  "kernelspec": {
   "display_name": "dev",
   "language": "python",
   "name": "dev"
  },
  "language_info": {
   "codemirror_mode": {
    "name": "ipython",
    "version": 3
   },
   "file_extension": ".py",
   "mimetype": "text/x-python",
   "name": "python",
   "nbconvert_exporter": "python",
   "pygments_lexer": "ipython3",
   "version": "3.11.5"
  }
 },
 "nbformat": 4,
 "nbformat_minor": 5
}
