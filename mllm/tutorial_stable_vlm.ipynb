{
 "cells": [
  {
   "cell_type": "markdown",
   "id": "8ff7daba-358f-4e84-9e3f-db234a89b9f1",
   "metadata": {},
   "source": [
    "# StabilityAIのVLMモデルを動かす\n",
    "\n",
    "npaka氏あざす\n",
    "- https://note.com/npaka/n/n3d51dbd8a681"
   ]
  },
  {
   "cell_type": "code",
   "execution_count": null,
   "id": "321f456d-c763-4ad8-9fcd-83d368f1eb03",
   "metadata": {},
   "outputs": [],
   "source": [
    "import os\n",
    "os.environ[\"CUDA_DEVICE_ORDER\"] = \"PCI_BUS_ID\"\n",
    "os.environ[\"CUDA_VISIBLE_DEVICES\"] = \"1\"\n",
    "\n",
    "import requests\n",
    "import pandas as pd\n",
    "import matplotlib.pyplot as plt\n",
    "from PIL import Image\n",
    "import torch\n",
    "from transformers import BitsAndBytesConfig\n",
    "from transformers import pipeline\n",
    "import openai\n",
    "from openai import OpenAI\n",
    "from src.utils import download_image_from_s3\n",
    "\n",
    "import torch\n",
    "from transformers import AutoTokenizer, AutoModelForVision2Seq, AutoImageProcessor\n",
    "\n",
    "from PIL import Image\n",
    "import requests\n",
    "\n",
    "model_id = \"/media/sj-archimedes/data/03_pretrained_model/llm/stabilityai/japanese-stable-vlm\""
   ]
  },
  {
   "cell_type": "code",
   "execution_count": null,
   "id": "1d8e81bb-77ae-434b-95e5-8d4d90f0d6af",
   "metadata": {},
   "outputs": [],
   "source": [
    "model_kwargs = {\"trust_remote_code\": True, \"low_cpu_mem_usage\": True}\n",
    "model_kwargs[\"variant\"] = \"fp16\"\n",
    "model_kwargs[\"torch_dtype\"] = torch.float16\n",
    "model_kwargs[\"device_map\"] = \"auto\""
   ]
  },
  {
   "cell_type": "code",
   "execution_count": null,
   "id": "9de54823-c3be-4f84-9321-1fae4346d2c9",
   "metadata": {},
   "outputs": [],
   "source": [
    "model = AutoModelForVision2Seq.from_pretrained(model_id, **model_kwargs)\n",
    "processor = AutoImageProcessor.from_pretrained(model_id)\n",
    "tokenizer = AutoTokenizer.from_pretrained(model_id)\n",
    "model = model.eval()"
   ]
  },
  {
   "cell_type": "code",
   "execution_count": null,
   "id": "3a98c648-24fc-4e77-9e60-a71b9169c311",
   "metadata": {},
   "outputs": [],
   "source": [
    "df = pd.read_pickle('/media/sj-archimedes/data/share/OddAI_Library_practice/data08/lap_trainval_20221001-20231031.pkl')\n",
    "df = df.query('creative_type == \"image\"')\n",
    "df['creative_media_url'] = df['creative_media_url'].map(lambda x: x[0])\n",
    "df['creative_media_hash'] = df['creative_media_hash'].map(lambda x: x[0])"
   ]
  },
  {
   "cell_type": "code",
   "execution_count": null,
   "id": "08b73b20-94bf-49a5-ba73-e923aa2e1ed4",
   "metadata": {},
   "outputs": [],
   "source": [
    "s3_url = df['creative_media_url'].sample(3).tolist()\n",
    "print(s3_url)\n",
    "image_list = [download_image_from_s3(path) for path in s3_url]\n",
    "\n",
    "plt.subplots(1,3, figsize=(15,5))\n",
    "for i, img in enumerate(image_list):\n",
    "    plt.subplot(1,3,i+1)\n",
    "    plt.imshow(img)\n",
    "plt.show()"
   ]
  },
  {
   "cell_type": "code",
   "execution_count": null,
   "id": "0f3260cd-2b00-47fc-bd74-93d287871036",
   "metadata": {},
   "outputs": [],
   "source": [
    "# プロンプトの準備\n",
    "prompt = \"\"\"\n",
    "以下は、タスクを説明する指示と、文脈のある入力の組み合わせです。要求を適切に満たす応答を書きなさい。\n",
    "\n",
    "### 指示: \n",
    "画像を詳細に述べてください。\n",
    "\n",
    "### 応答: \n",
    "\"\"\"\n",
    "\n",
    "for img in image_list:\n",
    "    plt.figure(figsize=(5,5))\n",
    "    plt.imshow(img)\n",
    "    plt.show()\n",
    "    # 入力の準備\n",
    "    inputs = processor(images=img, return_tensors=\"pt\")\n",
    "    text_encoding = tokenizer(prompt, add_special_tokens=False, return_tensors=\"pt\")\n",
    "    inputs.update(text_encoding)\n",
    "    \n",
    "    # 推論の実行\n",
    "    outputs = model.generate(\n",
    "        **inputs.to(device=model.device),\n",
    "        do_sample=True,\n",
    "        num_beams=1,\n",
    "        max_new_tokens=512,\n",
    "        min_length=1,\n",
    "        repetition_penalty=1.5,\n",
    "    )\n",
    "    generated_text = tokenizer.batch_decode(outputs, skip_special_tokens=True)[0].strip()\n",
    "    print(generated_text)"
   ]
  },
  {
   "cell_type": "code",
   "execution_count": null,
   "id": "d4b052a2-47a7-4355-bccf-0c6d4b5dba36",
   "metadata": {},
   "outputs": [],
   "source": []
  }
 ],
 "metadata": {
  "kernelspec": {
   "display_name": "dev",
   "language": "python",
   "name": "dev"
  },
  "language_info": {
   "codemirror_mode": {
    "name": "ipython",
    "version": 3
   },
   "file_extension": ".py",
   "mimetype": "text/x-python",
   "name": "python",
   "nbconvert_exporter": "python",
   "pygments_lexer": "ipython3",
   "version": "3.11.5"
  }
 },
 "nbformat": 4,
 "nbformat_minor": 5
}
