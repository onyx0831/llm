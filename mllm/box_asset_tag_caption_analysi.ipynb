{
 "cells": [
  {
   "cell_type": "code",
   "execution_count": 29,
   "metadata": {},
   "outputs": [],
   "source": [
    "import pandas as pd\n",
    "from PIL import Image\n",
    "from glob import glob\n",
    "import matplotlib.pyplot as plt\n",
    "import japanize_matplotlib\n",
    "\n",
    "\n",
    "\n",
    "caption_result_list = glob('/media/sj-archimedes/data/masaya_kondo/research/mllm/box_asset/caption_result/*.pkl')\n",
    "df = pd.concat([pd.read_pickle(caption_result) for caption_result in caption_result_list], axis=0)\n",
    "df['account_name'] = df['box_path'].map(lambda x: x.split('/')[3])\n",
    "\n",
    "def preprocess_tag_caption(text):\n",
    "    tags = text.split('\\n')\n",
    "    try:\n",
    "        tags = [tag.split('. ')[1] for tag in tags]\n",
    "        tags = ', '.join(tags)\n",
    "    except:\n",
    "        tags = 'Error'\n",
    "    return tags\n",
    "\n",
    "df['tag'] = df['tag_caption'].map(preprocess_tag_caption)\n",
    "df = df.query('tag != \"Error\"')\n",
    "df['tag'] = df['tag'].map(lambda x: list(set(x.split(', '))))\n",
    "account2num_asset = {}\n",
    "for account_name, gdf in df.groupby('account_name'):\n",
    "    num_asset = gdf.shape[0]\n",
    "    if account_name not in account2num_asset:\n",
    "        account2num_asset[account_name] = num_asset\n",
    "df['num_asset'] = df['account_name'].map(account2num_asset)\n"
   ]
  },
  {
   "cell_type": "code",
   "execution_count": 24,
   "metadata": {},
   "outputs": [
    {
     "name": "stdout",
     "output_type": "stream",
     "text": [
      "['マスク', 'コンピュータ', '監視カメラ', 'パスポート', 'サングラス', '手錠', '銃', '鍵', 'バッグ', '携帯電話', 'エコ', '車', '自動車', '環境に優しい', '燃料', 'ガソリン', '環境', '燃費の悪い', '燃費', '燃費の良い', '書類', 'オフィス', 'ファイル', 'ビジネス', '情報', '文書', '管理', '整理', 'データ', '紙', 'コミュニケーション', '指', 'インターフェース', 'デジタル', '画面', 'テクノロジー', '操作', '手', 'スマートフォン', 'タッチ', 'コミュニケーション', 'シンプル', 'インターネット', 'ビジネス', 'ホワイト', 'テクノロジー', 'ノートパソコン', 'モダン', 'デザイン', 'スマートフォン', '暗号化', 'クラウドコンピューティング', '情報セキュリティ', 'サイバーセキュリティ', 'データセキュリティ', 'セキュリティ', 'インターネットセキュリティ', 'デジタルセキュリティ', 'クラウドセキュリティ', 'データ保護', 'コミュニケーションツール', 'インターネット', 'デジタル', 'モバイル', 'デバイス', 'テクノロジー', '通信機器', 'ネットワーク', '携帯電話', 'スマートフォン', 'コミュニケーション', '数字', 'インターフェース', 'シンプル', 'デジタル', '機械的', 'テクノロジー', '操作', 'ボタン', '携帯電話', 'コミュニケーション', '指', '撮影', 'インターネット', 'デジタル', '画面', '手', '写真', 'カメラ', 'スマートフォン']\n"
     ]
    }
   ],
   "source": [
    "for account_name, gdf in df.groupby('account_name'):\n",
    "    tag_list = list(set(gdf['tag'].sum()))\n",
    "\n",
    "\n",
    "\n",
    "    tag_count = pd.Series(tag_list).value_counts()\n",
    "    tag_count = tag_count[tag_count > 10]\n",
    "    tag_count = tag_count.sort_values(ascending=False)\n",
    "    tag_count = tag_count / tag_count.sum()\n",
    "    tag_count.plot(kind='bar', title=account_name)\n",
    "    plt.show()\n",
    "    plt.close()"
   ]
  }
 ],
 "metadata": {
  "kernelspec": {
   "display_name": "dev",
   "language": "python",
   "name": "dev"
  },
  "language_info": {
   "codemirror_mode": {
    "name": "ipython",
    "version": 3
   },
   "file_extension": ".py",
   "mimetype": "text/x-python",
   "name": "python",
   "nbconvert_exporter": "python",
   "pygments_lexer": "ipython3",
   "version": "3.11.5"
  }
 },
 "nbformat": 4,
 "nbformat_minor": 2
}
